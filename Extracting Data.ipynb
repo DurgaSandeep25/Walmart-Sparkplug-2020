{
  "nbformat": 4,
  "nbformat_minor": 0,
  "metadata": {
    "colab": {
      "name": "Forecasting sales of Iphone.ipynb",
      "provenance": [],
      "collapsed_sections": []
    },
    "kernelspec": {
      "name": "python3",
      "display_name": "Python 3"
    },
    "accelerator": "TPU"
  },
  "cells": [
    {
      "cell_type": "code",
      "metadata": {
        "id": "MSTn8M1iDTtf",
        "colab_type": "code",
        "colab": {
          "base_uri": "https://localhost:8080/",
          "height": 292
        },
        "outputId": "c2c093d1-2325-4b21-e6e3-aef02911b3ee"
      },
      "source": [
        "!pip install jsonpickle\n",
        "!pip install GetOldTweets3"
      ],
      "execution_count": 2,
      "outputs": [
        {
          "output_type": "stream",
          "text": [
            "Collecting jsonpickle\n",
            "  Downloading https://files.pythonhosted.org/packages/af/ca/4fee219cc4113a5635e348ad951cf8a2e47fed2e3342312493f5b73d0007/jsonpickle-1.4.1-py2.py3-none-any.whl\n",
            "Requirement already satisfied: importlib-metadata in /usr/local/lib/python3.6/dist-packages (from jsonpickle) (1.6.0)\n",
            "Requirement already satisfied: zipp>=0.5 in /usr/local/lib/python3.6/dist-packages (from importlib-metadata->jsonpickle) (3.1.0)\n",
            "Installing collected packages: jsonpickle\n",
            "Successfully installed jsonpickle-1.4.1\n",
            "Collecting GetOldTweets3\n",
            "  Downloading https://files.pythonhosted.org/packages/ed/f4/a00c2a7c90801abc875325bb5416ce9090ac86d06a00cc887131bd73ba45/GetOldTweets3-0.0.11-py3-none-any.whl\n",
            "Requirement already satisfied: lxml>=3.5.0 in /usr/local/lib/python3.6/dist-packages (from GetOldTweets3) (4.2.6)\n",
            "Collecting pyquery>=1.2.10\n",
            "  Downloading https://files.pythonhosted.org/packages/78/43/95d42e386c61cb639d1a0b94f0c0b9f0b7d6b981ad3c043a836c8b5bc68b/pyquery-1.4.1-py2.py3-none-any.whl\n",
            "Collecting cssselect>0.7.9\n",
            "  Downloading https://files.pythonhosted.org/packages/3b/d4/3b5c17f00cce85b9a1e6f91096e1cc8e8ede2e1be8e96b87ce1ed09e92c5/cssselect-1.1.0-py2.py3-none-any.whl\n",
            "Installing collected packages: cssselect, pyquery, GetOldTweets3\n",
            "Successfully installed GetOldTweets3-0.0.11 cssselect-1.1.0 pyquery-1.4.1\n"
          ],
          "name": "stdout"
        }
      ]
    },
    {
      "cell_type": "code",
      "metadata": {
        "id": "_WU3ueM6DFSG",
        "colab_type": "code",
        "colab": {}
      },
      "source": [
        "import tweepy\n",
        "import json\n",
        "import sys\n",
        "import os\n",
        "import pandas as pd\n",
        "import GetOldTweets3 as got"
      ],
      "execution_count": 0,
      "outputs": []
    },
    {
      "cell_type": "code",
      "metadata": {
        "id": "gfDpWDoIDfEs",
        "colab_type": "code",
        "colab": {}
      },
      "source": [
        "def get_tweets(query,since = None, until = None, Top_tweets = True):\n",
        "    \n",
        "    tweetCriteria = got.manager.TweetCriteria().setQuerySearch(query)\\\n",
        "                                               .setSince(since)\\\n",
        "                                               .setUntil(until)\\\n",
        "                                               .setMaxTweets(1000).setLang(\"en\").setTopTweets(Top_tweets)\n",
        "    tweet = got.manager.TweetManager.getTweets(tweetCriteria)\n",
        "    return tweet"
      ],
      "execution_count": 0,
      "outputs": []
    },
    {
      "cell_type": "code",
      "metadata": {
        "id": "qS4ouZTVDjVc",
        "colab_type": "code",
        "colab": {
          "base_uri": "https://localhost:8080/",
          "height": 122
        },
        "outputId": "34f0085d-1ddf-4380-837b-fbd55f012a31"
      },
      "source": [
        "from google.colab import drive\n",
        "drive.mount('/content/drive')"
      ],
      "execution_count": 5,
      "outputs": [
        {
          "output_type": "stream",
          "text": [
            "Go to this URL in a browser: https://accounts.google.com/o/oauth2/auth?client_id=947318989803-6bn6qk8qdgf4n4g3pfee6491hc0brc4i.apps.googleusercontent.com&redirect_uri=urn%3aietf%3awg%3aoauth%3a2.0%3aoob&response_type=code&scope=email%20https%3a%2f%2fwww.googleapis.com%2fauth%2fdocs.test%20https%3a%2f%2fwww.googleapis.com%2fauth%2fdrive%20https%3a%2f%2fwww.googleapis.com%2fauth%2fdrive.photos.readonly%20https%3a%2f%2fwww.googleapis.com%2fauth%2fpeopleapi.readonly\n",
            "\n",
            "Enter your authorization code:\n",
            "··········\n",
            "Mounted at /content/drive\n"
          ],
          "name": "stdout"
        }
      ]
    },
    {
      "cell_type": "code",
      "metadata": {
        "id": "FELZvSm2DfhL",
        "colab_type": "code",
        "colab": {
          "base_uri": "https://localhost:8080/",
          "height": 255
        },
        "outputId": "c48bf659-e0e4-4370-b7c3-81d59831e1ef"
      },
      "source": [
        "%%time\n",
        "years = ['2017','2018','2019']\n",
        "start_month = ['-01-01','-04-01','-07-01','-10-01']\n",
        "end_month = ['-03-31','-06-30','-09-01','-12-31']\n",
        "for i in ['Oneplus']:\n",
        "    for year in years:\n",
        "        count=0\n",
        "        for j in range(4):\n",
        "            since_date = year+start_month[count]\n",
        "            until_date = year+end_month[count]\n",
        "            count+=1\n",
        "            tweets = get_tweets(i, since=since_date, until=until_date)\n",
        "            df = pd.DataFrame(columns=['author_id','id','date','text','replies','retweets','favorites','hashtags'])\n",
        "            for model in tweets:\n",
        "                df.loc[len(df)] = [model.author_id, model.id, model.date, model.text,\n",
        "                                  model.replies, model.retweets,model.favorites,model.hashtags]\n",
        "\n",
        "            print('done with {} quarter:{}, got {} tweets'.format(year, count, len(df)))\n",
        "            df.to_csv('/content/drive/My Drive/Walmart Challenge/{}_report_{}_q{}.csv'.format(i,year,count), index=False, header=True)"
      ],
      "execution_count": 26,
      "outputs": [
        {
          "output_type": "stream",
          "text": [
            "done with 2017 quarter:1, got 1000 tweets\n",
            "done with 2017 quarter:2, got 1000 tweets\n",
            "done with 2017 quarter:3, got 1000 tweets\n",
            "done with 2017 quarter:4, got 1000 tweets\n",
            "done with 2018 quarter:1, got 1000 tweets\n",
            "done with 2018 quarter:2, got 1000 tweets\n",
            "done with 2018 quarter:3, got 1000 tweets\n",
            "done with 2018 quarter:4, got 1000 tweets\n",
            "done with 2019 quarter:1, got 1000 tweets\n",
            "done with 2019 quarter:2, got 1000 tweets\n",
            "done with 2019 quarter:3, got 1000 tweets\n",
            "done with 2019 quarter:4, got 1000 tweets\n",
            "CPU times: user 1min 56s, sys: 683 ms, total: 1min 56s\n",
            "Wall time: 8min 15s\n"
          ],
          "name": "stdout"
        }
      ]
    },
    {
      "cell_type": "code",
      "metadata": {
        "id": "sPTJehvTEZqi",
        "colab_type": "code",
        "colab": {}
      },
      "source": [
        ""
      ],
      "execution_count": 0,
      "outputs": []
    }
  ]
}